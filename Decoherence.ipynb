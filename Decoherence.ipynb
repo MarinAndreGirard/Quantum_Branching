{
 "cells": [
  {
   "cell_type": "markdown",
   "metadata": {},
   "source": [
    "Temporary notes\n",
    "\n",
    "\n",
    "This is a notebook to demonstrate the phenomena of decoherence. It will also be added to the exercice sheet, so have a few things to complet in there.\n",
    "\n",
    "TODO:\n",
    "1) Decoherence of a qubit: Show the 2 off diagonal terms in the density matrix of the qubit system going to 0. Show the evolution on the bloch sphere, ie maybe show the 2 schmidt states go to the two poles? Maybe connect the Schmidt states to the \n",
    "2) Zoe wants it to be very concret, no worlds or interpretation talk. Still, I want to make sure that they get its only unitary evolution.\n",
    "3) Would be cool if I can make them visualize the wavefunction collapse.\n",
    "4) You need to make the argument for getting there good.\n",
    "5) visualize entanglement growth.\n",
    "6) potentially add something on einselection? \n",
    "7) Maybe zoe wants a spin chain kind of system\n",
    "8) Make the dephasing argument visualized??? \n",
    "\n",
    "Potential issues: \n",
    "1) How will people run it? Put it on google colab, so they dont have to install anything.\n",
    "2) Make sure it is uploaded in a way wherethe figures are not there yet.\n",
    "3) Make sure things can run smoothly.\n",
    "\n"
   ]
  },
  {
   "cell_type": "code",
   "execution_count": null,
   "metadata": {},
   "outputs": [],
   "source": []
  }
 ],
 "metadata": {
  "kernelspec": {
   "display_name": "Quantum_Branching",
   "language": "python",
   "name": "python3"
  },
  "language_info": {
   "name": "python",
   "version": "3.11.7"
  }
 },
 "nbformat": 4,
 "nbformat_minor": 2
}

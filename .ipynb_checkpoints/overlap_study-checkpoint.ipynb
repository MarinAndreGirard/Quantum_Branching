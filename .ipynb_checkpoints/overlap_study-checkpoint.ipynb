{
 "cells": [
  {
   "cell_type": "code",
   "execution_count": null,
   "id": "a18ead11-36d0-4e79-8750-ba978bb2a99d",
   "metadata": {},
   "outputs": [],
   "source": [
    "import numpy as np\n",
    "import qutip as qt\n",
    "import math\n",
    "import matplotlib.pyplot as plt\n",
    "from q_solve import generate_result\n",
    "from Schmidt_solve import compute_schmidt_states\n",
    "from VN import plot_VN\n",
    "from VN import compute_VN_time\n",
    "from e_spectrum import plot_e_spectrum\n",
    "from Neff import plot_Neff_schmidt_Neff_tot\n",
    "from checkup import checkup\n",
    "from overlap import plot_p_overlap_graph"
   ]
  },
  {
   "cell_type": "code",
   "execution_count": null,
   "id": "56ba0146-d1fa-4ac5-8ec4-1b8e0ecd1524",
   "metadata": {},
   "outputs": [],
   "source": [
    "checkup()"
   ]
  },
  {
   "cell_type": "code",
   "execution_count": null,
   "id": "65ddf512-ec1d-4967-ac0c-e362c0b644c7",
   "metadata": {},
   "outputs": [],
   "source": [
    "#defining all quantities used in the simulation\n",
    "d1, d2 = 10, 200\n",
    "w = 0.3# smallest weight of the 2 eingestates, set btw 0 and 1\n",
    "E_spacing = 1.0\n",
    "Int_strength = 0.03\n",
    "# Define the time settings for the simulation\n",
    "tmax= 10\n",
    "ind_nb = 100"
   ]
  },
  {
   "cell_type": "code",
   "execution_count": null,
   "id": "b9f74df6-149d-4edc-87e4-d070eaa34c38",
   "metadata": {},
   "outputs": [],
   "source": [
    "#Testing the overlap plot on different w\n",
    "resulta1, tlist, H_q, H_system_2, H_system_1_ext, H_system_2_ext, H_interaction, H_totala1, ket_0, ket_1, initial_state_system_2 = generate_result(10,200,0.5, E_spacing, 0.06, 1000,1000,1)\n",
    "resulta2, tlist, H_q, H_system_2, H_system_1_ext, H_system_2_ext, H_interaction, H_totala2, ket_0, ket_1, initial_state_system_2 = generate_result(10,200,0.4, E_spacing, 0.06, 1000,1000,1)\n",
    "resulta3, tlist, H_q, H_system_2, H_system_1_ext, H_system_2_ext, H_interaction, H_totala3, ket_0, ket_1, initial_state_system_2 = generate_result(10,200,0.3, E_spacing, 0.06, 1000,1000,1)\n",
    "\n",
    "plot_p_overlap_graph(tlist,resulta1,H_totala1)\n",
    "plot_p_overlap_graph(tlist,resulta2,H_totala2)\n",
    "plot_p_overlap_graph(tlist,resulta3,H_totala3)"
   ]
  },
  {
   "cell_type": "code",
   "execution_count": null,
   "id": "38101a18-5ba0-49ba-9956-b30abdfeb33d",
   "metadata": {},
   "outputs": [],
   "source": []
  },
  {
   "cell_type": "code",
   "execution_count": null,
   "id": "938d42c3-d17f-4e9f-a2f2-8e8c8780bcba",
   "metadata": {},
   "outputs": [],
   "source": []
  },
  {
   "cell_type": "code",
   "execution_count": null,
   "id": "652c4f6d-fb72-45b1-b5d8-e6d8e038ef22",
   "metadata": {},
   "outputs": [],
   "source": []
  },
  {
   "cell_type": "code",
   "execution_count": null,
   "id": "76feb379-c011-4487-9e65-e9ae1a18172d",
   "metadata": {},
   "outputs": [],
   "source": []
  },
  {
   "cell_type": "code",
   "execution_count": null,
   "id": "c50893ba-da26-4a07-b1bb-718a1777d376",
   "metadata": {},
   "outputs": [],
   "source": []
  }
 ],
 "metadata": {
  "kernelspec": {
   "display_name": "Python 3 (ipykernel)",
   "language": "python",
   "name": "python3"
  },
  "language_info": {
   "codemirror_mode": {
    "name": "ipython",
    "version": 3
   },
   "file_extension": ".py",
   "mimetype": "text/x-python",
   "name": "python",
   "nbconvert_exporter": "python",
   "pygments_lexer": "ipython3",
   "version": "3.12.2"
  }
 },
 "nbformat": 4,
 "nbformat_minor": 5
}

{
 "cells": [
  {
   "cell_type": "code",
   "execution_count": 1,
   "id": "0d2e776b-7711-44a5-8939-4ca3659dee4c",
   "metadata": {},
   "outputs": [],
   "source": [
    "import numpy as np\n",
    "import qutip as qt\n",
    "import math\n",
    "import matplotlib.pyplot as plt\n",
    "from q_solve import generate_result\n",
    "from Schmidt_solve import compute_schmidt_states\n",
    "from VN import compute_VN_time\n"
   ]
  },
  {
   "cell_type": "code",
   "execution_count": null,
   "id": "e6d04594-f30c-42cf-89e6-6135dabc6854",
   "metadata": {},
   "outputs": [],
   "source": []
  },
  {
   "cell_type": "code",
   "execution_count": 2,
   "id": "c4282437-d94f-41ed-a0e8-5a77b7478831",
   "metadata": {},
   "outputs": [],
   "source": [
    "#defining all quantities used in the simulation\n",
    "d1, d2 = 10, 200\n",
    "w = 0.3# smallest weight of the 2 eingestates, set btw 0 and 1\n",
    "E_spacing = 1.0\n",
    "Int_strength = 0.03\n",
    "# Define the time settings for the simulation\n",
    "tmax= 10\n",
    "ind_nb = 100\n",
    "#using all above to obtain QM qtts\n",
    "result, tlist, H_q, H_system_2, H_system_1_ext, H_system_2_ext, H_interaction, H_total, ket_0, ket_1, initial_state_system_2 = generate_result(d1,d2,w, E_spacing, Int_strength, tmax, ind_nb)\n",
    "time_indices = [0, 10, 20, 30, 49]  # Specify the time indices of interest"
   ]
  },
  {
   "cell_type": "code",
   "execution_count": null,
   "id": "a84098a6-d91f-49ad-b70c-c11f48480bc4",
   "metadata": {},
   "outputs": [],
   "source": []
  },
  {
   "cell_type": "code",
   "execution_count": null,
   "id": "c2648ea3-5555-4cab-a062-5b32c7fc6e05",
   "metadata": {},
   "outputs": [],
   "source": []
  },
  {
   "cell_type": "code",
   "execution_count": 3,
   "id": "9b92b0e1-8196-47e0-b7f6-0d1c55d9dbe7",
   "metadata": {},
   "outputs": [],
   "source": [
    "time_index = 0  # Define the time index\n",
    "s0 = compute_schmidt_states(result, time_index, 1)[0]"
   ]
  },
  {
   "cell_type": "code",
   "execution_count": 4,
   "id": "47422f35-1fcf-4efa-bea9-89fa47464242",
   "metadata": {},
   "outputs": [
    {
     "ename": "NameError",
     "evalue": "name 'tlist' is not defined",
     "output_type": "error",
     "traceback": [
      "\u001b[1;31m---------------------------------------------------------------------------\u001b[0m",
      "\u001b[1;31mNameError\u001b[0m                                 Traceback (most recent call last)",
      "Cell \u001b[1;32mIn[4], line 10\u001b[0m\n\u001b[0;32m      8\u001b[0m \u001b[38;5;66;03m# Create a 2x2 grid of plots\u001b[39;00m\n\u001b[0;32m      9\u001b[0m fig, axes \u001b[38;5;241m=\u001b[39m plt\u001b[38;5;241m.\u001b[39msubplots(\u001b[38;5;241m2\u001b[39m, \u001b[38;5;241m2\u001b[39m, figsize\u001b[38;5;241m=\u001b[39m(\u001b[38;5;241m15\u001b[39m, \u001b[38;5;241m10\u001b[39m))\n\u001b[1;32m---> 10\u001b[0m v2 \u001b[38;5;241m=\u001b[39m \u001b[43mcompute_VN_time\u001b[49m\u001b[43m(\u001b[49m\u001b[43mresult\u001b[49m\u001b[43m)\u001b[49m\n\u001b[0;32m     12\u001b[0m \u001b[38;5;66;03m# Plot 1: VN entropy over time\u001b[39;00m\n\u001b[0;32m     13\u001b[0m axes[\u001b[38;5;241m0\u001b[39m, \u001b[38;5;241m0\u001b[39m]\u001b[38;5;241m.\u001b[39mplot(tlist, v2)\n",
      "File \u001b[1;32m~\\Dev\\Quantum_Branching\\VN.py:13\u001b[0m, in \u001b[0;36mcompute_VN_time\u001b[1;34m(result)\u001b[0m\n\u001b[0;32m     11\u001b[0m \u001b[38;5;28;01mdef\u001b[39;00m \u001b[38;5;21mcompute_VN_time\u001b[39m(result):\n\u001b[0;32m     12\u001b[0m     von_neumann_entropy \u001b[38;5;241m=\u001b[39m []\n\u001b[1;32m---> 13\u001b[0m     \u001b[38;5;28;01mfor\u001b[39;00m time_index \u001b[38;5;129;01min\u001b[39;00m \u001b[38;5;28mrange\u001b[39m(\u001b[38;5;28mlen\u001b[39m(\u001b[43mtlist\u001b[49m)):\n\u001b[0;32m     14\u001b[0m         entropy \u001b[38;5;241m=\u001b[39m compute_VN(result, time_index, subsystem_index\u001b[38;5;241m=\u001b[39m\u001b[38;5;241m0\u001b[39m)\n\u001b[0;32m     15\u001b[0m         von_neumann_entropy\u001b[38;5;241m.\u001b[39mappend(entropy)\n",
      "\u001b[1;31mNameError\u001b[0m: name 'tlist' is not defined"
     ]
    },
    {
     "data": {
      "image/png": "[encoded data removed]",
      "text/plain": [
       "<Figure size 1500x1000 with 4 Axes>"
      ]
     },
     "metadata": {},
     "output_type": "display_data"
    }
   ],
   "source": [
    "######This is a checkup to see if you program works\n",
    "\n",
    "\n",
    "# Eigenstates and eigenenergies \n",
    "eigenenergies_system_2, eigenstates_system_2 = H_system_2.eigenstates() \n",
    "eigenenergies_system_total, eigenstates_system_total = H_total.eigenstates() \n",
    "eigenenergies_system_1, eigenstates_system_1 = H_q.eigenstates() \n",
    "# Create a 2x2 grid of plots\n",
    "fig, axes = plt.subplots(2, 2, figsize=(15, 10))\n",
    "v2 = compute_VN_time(result,tlist)\n",
    "\n",
    "# Plot 1: VN entropy over time\n",
    "axes[0, 0].plot(tlist, v2)\n",
    "axes[0, 0].set_title(\"VN entropy over time\")\n",
    "axes[0, 0].set_xlabel(\"time index\")\n",
    "axes[0, 0].set_ylabel(\"VN entropy\")\n",
    "\n",
    "# Plot 2: Distribution of the Environment state over the environment energy eigenstates\n",
    "time_index = 0  # Define the time index\n",
    "s0 = compute_schmidt_states(result, time_index, 1)[0]\n",
    "schmidt_coefficients0 = [abs(np.vdot(s0, eigenstate)) ** 2 for eigenstate in eigenstates_system_2]\n",
    "axes[0, 1].plot(eigenenergies_system_2, schmidt_coefficients0, marker='o', label=f'Energy {eigenenergies_system_2}')\n",
    "axes[0, 1].set_title(\"Distribution of the Environment state over the environment energy eigenstates\")\n",
    "axes[0, 1].set_xlabel(\"Energy Eigenstates\")\n",
    "axes[0, 1].set_ylabel(\"Schmidt Coefficients\")\n",
    "\n",
    "\n",
    "\n",
    "# Plot 3: Distribution of the System state over the system energy eigenstates\n",
    "s0 = compute_schmidt_states(result, time_index, 0)[0]\n",
    "schmidt_coefficients0 = [abs(np.vdot(s0, eigenstate)) ** 2 for eigenstate in eigenstates_system_1]\n",
    "axes[1, 0].plot(eigenenergies_system_1, schmidt_coefficients0, marker='o', label=f'Energy {eigenenergies_system_1}')\n",
    "axes[1, 0].set_title(\"Distribution of the System state over the system energy eigenstates\")\n",
    "axes[1, 0].set_xlabel(\"Energy Eigenstates\")\n",
    "axes[1, 0].set_ylabel(\"Schmidt Coefficients\")\n",
    "\n",
    "# Plot 4: Distribution of the state over the energy eigenstates\n",
    "s0 = result.states[0]\n",
    "schmidt_coefficients0 = [abs(np.vdot(s0, eigenstate)) ** 2 for eigenstate in eigenstates_system_total]\n",
    "axes[1, 1].plot(eigenenergies_system_total, schmidt_coefficients0, marker='o', label=f'Energy {eigenenergies_system_total}')\n",
    "axes[1, 1].set_title(\"Distribution of the state over the energy eigenstates\")\n",
    "axes[1, 1].set_xlabel(\"Energy Eigenstates\")\n",
    "axes[1, 1].set_ylabel(\"Schmidt Coefficients\")\n",
    "\n",
    "plt.tight_layout()  # Adjust spacing between subplots\n",
    "plt.show()"
   ]
  },
  {
   "cell_type": "code",
   "execution_count": null,
   "id": "e63ac4d7-c01e-47e3-b599-8233135649a5",
   "metadata": {},
   "outputs": [],
   "source": [
    "def Neff(H_total,result):\n",
    "    eigenenergies_total, eigenstates_total = H_total.eigenstates() \n",
    "    state = result.states[0]\n",
    "    p2=[(abs(np.vdot(state, eigenstate)) ** 2) ** 2 for eigenstate in eigenstates_total]\n",
    "    Neff = 1/np.sum(p2)\n",
    "    return Neff"
   ]
  },
  {
   "cell_type": "code",
   "execution_count": null,
   "id": "2d5e745b-5e10-4330-8359-322a9c8647fc",
   "metadata": {},
   "outputs": [],
   "source": [
    "def plot_e_spectrum(H_total, result):\n",
    "    eigenenergies_total, eigenstates_total = H_total.eigenstates() \n",
    "    state = result.states[0]\n",
    "    energy_coeff=[abs(np.vdot(state, eigenstate)) ** 2 for eigenstate in eigenstates_total]\n",
    "    c = np.count_nonzero(energy_coeff)\n",
    "    print(Neff(H_total,result))\n",
    "    num_bins=100\n",
    "    min_energy=min(eigenenergies_total)\n",
    "    max_energy=max(eigenenergies_total)\n",
    "    plt.figure(figsize=(10, 2))\n",
    "    plt.plot(eigenenergies_total,energy_coeff);\n",
    "    #looks like a nice wigner semicircle, this is the thing, who's shape changes as the interaction energy increases. lets check that\n",
    "    plt.figure(figsize=(10, 2))\n",
    "    plt.hist(eigenenergies_total, bins=num_bins, range=(min_energy, max_energy), edgecolor='black');\n",
    "    #PERFECT wigner semi cirlce, vs weird cowboy hat"
   ]
  },
  {
   "cell_type": "code",
   "execution_count": null,
   "id": "bd6264aa-d9d4-40b1-8796-bf3f66d394b8",
   "metadata": {},
   "outputs": [],
   "source": [
    "result, tlist, H_q, H_system_2, H_system_1_ext, H_system_2_ext, H_interaction, H_total, ket_0, ket_1, initial_state_system_2 = generate_result(d1,d2,w, E_spacing, 0, tmax, ind_nb)"
   ]
  },
  {
   "cell_type": "code",
   "execution_count": null,
   "id": "50cdbd1b-a0ce-4821-94cd-b47961713a44",
   "metadata": {},
   "outputs": [],
   "source": [
    "result1, tlist, H_q, H_system_2, H_system_1_ext, H_system_2_ext, H_interaction, H_total1, ket_0, ket_1, initial_state_system_2 = generate_result(d1,d2,w, E_spacing, 0.01, tmax, ind_nb)"
   ]
  },
  {
   "cell_type": "code",
   "execution_count": null,
   "id": "adea8cab-51b0-4378-b649-9b67eb9163d9",
   "metadata": {},
   "outputs": [],
   "source": [
    "result2, tlist, H_q, H_system_2, H_system_1_ext, H_system_2_ext, H_interaction, H_total2, ket_0, ket_1, initial_state_system_2 = generate_result(d1,d2,w, E_spacing, 0.05, tmax, ind_nb)"
   ]
  },
  {
   "cell_type": "code",
   "execution_count": null,
   "id": "afcc77a9-7751-4636-85c7-74997c71ac32",
   "metadata": {},
   "outputs": [],
   "source": [
    "result3, tlist, H_q, H_system_2, H_system_1_ext, H_system_2_ext, H_interaction, H_total3, ket_0, ket_1, initial_state_system_2 = generate_result(d1,d2,w, E_spacing, 0.1, tmax, ind_nb)"
   ]
  },
  {
   "cell_type": "code",
   "execution_count": null,
   "id": "c15c140d-19df-4fb0-8216-a8e2f2cc4243",
   "metadata": {},
   "outputs": [],
   "source": [
    "result4, tlist, H_q, H_system_2, H_system_1_ext, H_system_2_ext, H_interaction, H_total4, ket_0, ket_1, initial_state_system_2 = generate_result(d1,d2,w, E_spacing, 0.15, tmax, ind_nb)"
   ]
  },
  {
   "cell_type": "code",
   "execution_count": null,
   "id": "ebba772f-ca48-48f2-bca5-4b9cacc508f3",
   "metadata": {},
   "outputs": [],
   "source": [
    "result5, tlist, H_q, H_system_2, H_system_1_ext, H_system_2_ext, H_interaction, H_total5, ket_0, ket_1, initial_state_system_2 = generate_result(d1,d2,w, E_spacing, 0.25, tmax, ind_nb)"
   ]
  },
  {
   "cell_type": "code",
   "execution_count": null,
   "id": "b3f30bbe-0d27-49e4-95a9-feaac3e012ac",
   "metadata": {},
   "outputs": [],
   "source": [
    "result6, tlist, H_q, H_system_2, H_system_1_ext, H_system_2_ext, H_interaction, H_total6, ket_0, ket_1, initial_state_system_2 = generate_result(d1,d2,w, E_spacing, 1, tmax, ind_nb)"
   ]
  },
  {
   "cell_type": "code",
   "execution_count": null,
   "id": "d424da0e-4b3e-4418-a716-bf0a9591b906",
   "metadata": {},
   "outputs": [],
   "source": [
    "plot_e_spectrum(H_total,result)"
   ]
  },
  {
   "cell_type": "code",
   "execution_count": null,
   "id": "74d8d87a-48b1-495b-9678-8f77e264d63f",
   "metadata": {},
   "outputs": [],
   "source": [
    "plot_e_spectrum(H_total1,result1)"
   ]
  },
  {
   "cell_type": "code",
   "execution_count": null,
   "id": "95b5b136-988a-40e8-ab8b-2e80cfed9a8d",
   "metadata": {},
   "outputs": [],
   "source": [
    "plot_e_spectrum(H_total2,result2)"
   ]
  },
  {
   "cell_type": "code",
   "execution_count": null,
   "id": "b4e34cd3-80c7-4abd-852b-55626e426a3a",
   "metadata": {},
   "outputs": [],
   "source": [
    "plot_e_spectrum(H_total3,result3)"
   ]
  },
  {
   "cell_type": "code",
   "execution_count": null,
   "id": "5f87de68-8d0c-419f-ba54-85c1ea90bc8a",
   "metadata": {},
   "outputs": [],
   "source": [
    "plot_e_spectrum(H_total4,result4)"
   ]
  },
  {
   "cell_type": "code",
   "execution_count": null,
   "id": "d206aa56-e5ba-497d-96d4-9279875d89a7",
   "metadata": {},
   "outputs": [],
   "source": [
    "plot_e_spectrum(H_total5,result5)"
   ]
  },
  {
   "cell_type": "code",
   "execution_count": 5,
   "id": "39dfe66c-c8c4-45e6-a3c4-3625a4a2ccc3",
   "metadata": {},
   "outputs": [
    {
     "ename": "NameError",
     "evalue": "name 'plot_e_spectrum' is not defined",
     "output_type": "error",
     "traceback": [
      "\u001b[1;31m---------------------------------------------------------------------------\u001b[0m",
      "\u001b[1;31mNameError\u001b[0m                                 Traceback (most recent call last)",
      "Cell \u001b[1;32mIn[5], line 1\u001b[0m\n\u001b[1;32m----> 1\u001b[0m \u001b[43mplot_e_spectrum\u001b[49m(H_total6,result6)\n",
      "\u001b[1;31mNameError\u001b[0m: name 'plot_e_spectrum' is not defined"
     ]
    }
   ],
   "source": [
    "plot_e_spectrum(H_total6,result6)"
   ]
  },
  {
   "cell_type": "code",
   "execution_count": null,
   "id": "a59530f0-063a-45a6-b8f5-9f50aa4b3d4a",
   "metadata": {},
   "outputs": [],
   "source": []
  },
  {
   "cell_type": "code",
   "execution_count": 6,
   "id": "0875f84f-aae8-4f04-abd2-ad29be916d93",
   "metadata": {},
   "outputs": [],
   "source": [
    "#computign the neffschmidt/neffttot\n",
    "\n",
    "def plot_Neff_schmidt(H_total, result):\n",
    "    eigenenergies_total, eigenstates_total = H_total.eigenstates()\n",
    "    coef1 = []\n",
    "    coef2 = []\n",
    "    coef3 = []\n",
    "\n",
    "    for idx in range(len(tlist)):\n",
    "        a = compute_schmidt_states(result, idx, 0, 0)[0] #schmidt 1 on system 1\n",
    "        b = compute_schmidt_states(result, idx, 1, 0)[0] #schmidt 2 on system 1\n",
    "        c = compute_schmidt_states(result, idx, 0, 0)[1] #schmidt 1 on system 1\n",
    "        d = compute_schmidt_states(result, idx, 1, 0)[1] #schmidt 2 on system 1\n",
    "        e = compute_schmidt_states(result, idx, 0, 0)[2] #schmidt 1 on system 1\n",
    "        f = compute_schmidt_states(result, idx, 1, 0)[2] #schmidt 2 on system 1\n",
    "        g = np.tensordot(a, b, 0)\n",
    "        h = np.tensordot(c, d, 0)\n",
    "        i = np.tensordot(e, f, 0)\n",
    "        p2=[(abs(np.vdot(g, eigenstate)) ** 2) ** 2 for eigenstate in eigenstates_total]\n",
    "        p2_=[(abs(np.vdot(h, eigenstate)) ** 2) ** 2 for eigenstate in eigenstates_total]\n",
    "        p2__=[(abs(np.vdot(i, eigenstate)) ** 2) ** 2 for eigenstate in eigenstates_total]\n",
    "        coef1.append(1/np.sum(p2))\n",
    "        coef2.append(1/np.sum(p2_))\n",
    "        coef3.append(1/np.sum(p2__))\n",
    "    \n",
    "    plt.figure(figsize=(10, 2))\n",
    "    plt.xscale(\"log\")\n",
    "    plt.plot(coef1)\n",
    "    plt.plot(coef2)\n",
    "    plt.plot(coef3)"
   ]
  },
  {
   "cell_type": "code",
   "execution_count": 7,
   "id": "eadb8e86-5355-49d6-8fce-26c0efd77a5f",
   "metadata": {},
   "outputs": [
    {
     "name": "stderr",
     "output_type": "stream",
     "text": [
      "C:\\Users\\marin\\AppData\\Local\\Temp\\ipykernel_10228\\4108819230.py:24: RuntimeWarning: divide by zero encountered in scalar divide\n",
      "  coef3.append(1/np.sum(p2__))\n"
     ]
    },
    {
     "ename": "KeyboardInterrupt",
     "evalue": "",
     "output_type": "error",
     "traceback": [
      "\u001b[1;31m---------------------------------------------------------------------------\u001b[0m",
      "\u001b[1;31mKeyboardInterrupt\u001b[0m                         Traceback (most recent call last)",
      "Cell \u001b[1;32mIn[7], line 1\u001b[0m\n\u001b[1;32m----> 1\u001b[0m \u001b[43mplot_Neff_schmidt\u001b[49m\u001b[43m(\u001b[49m\u001b[43mH_total\u001b[49m\u001b[43m,\u001b[49m\u001b[43mresult\u001b[49m\u001b[43m)\u001b[49m\n",
      "Cell \u001b[1;32mIn[6], line 13\u001b[0m, in \u001b[0;36mplot_Neff_schmidt\u001b[1;34m(H_total, result)\u001b[0m\n\u001b[0;32m     11\u001b[0m b \u001b[38;5;241m=\u001b[39m compute_schmidt_states(result, idx, \u001b[38;5;241m1\u001b[39m, \u001b[38;5;241m0\u001b[39m)[\u001b[38;5;241m0\u001b[39m] \u001b[38;5;66;03m#schmidt 2 on system 1\u001b[39;00m\n\u001b[0;32m     12\u001b[0m c \u001b[38;5;241m=\u001b[39m compute_schmidt_states(result, idx, \u001b[38;5;241m0\u001b[39m, \u001b[38;5;241m0\u001b[39m)[\u001b[38;5;241m1\u001b[39m] \u001b[38;5;66;03m#schmidt 1 on system 1\u001b[39;00m\n\u001b[1;32m---> 13\u001b[0m d \u001b[38;5;241m=\u001b[39m \u001b[43mcompute_schmidt_states\u001b[49m\u001b[43m(\u001b[49m\u001b[43mresult\u001b[49m\u001b[43m,\u001b[49m\u001b[43m \u001b[49m\u001b[43midx\u001b[49m\u001b[43m,\u001b[49m\u001b[43m \u001b[49m\u001b[38;5;241;43m1\u001b[39;49m\u001b[43m,\u001b[49m\u001b[43m \u001b[49m\u001b[38;5;241;43m0\u001b[39;49m\u001b[43m)\u001b[49m[\u001b[38;5;241m1\u001b[39m] \u001b[38;5;66;03m#schmidt 2 on system 1\u001b[39;00m\n\u001b[0;32m     14\u001b[0m e \u001b[38;5;241m=\u001b[39m compute_schmidt_states(result, idx, \u001b[38;5;241m0\u001b[39m, \u001b[38;5;241m0\u001b[39m)[\u001b[38;5;241m2\u001b[39m] \u001b[38;5;66;03m#schmidt 1 on system 1\u001b[39;00m\n\u001b[0;32m     15\u001b[0m f \u001b[38;5;241m=\u001b[39m compute_schmidt_states(result, idx, \u001b[38;5;241m1\u001b[39m, \u001b[38;5;241m0\u001b[39m)[\u001b[38;5;241m2\u001b[39m] \u001b[38;5;66;03m#schmidt 2 on system 1\u001b[39;00m\n",
      "File \u001b[1;32m~\\Dev\\Quantum_Branching\\Schmidt_solve.py:11\u001b[0m, in \u001b[0;36mcompute_schmidt_states\u001b[1;34m(result, time_index, subsystem_index, trigger)\u001b[0m\n\u001b[0;32m      9\u001b[0m \u001b[38;5;28;01mdef\u001b[39;00m \u001b[38;5;21mcompute_schmidt_states\u001b[39m(result, time_index, subsystem_index\u001b[38;5;241m=\u001b[39m\u001b[38;5;241m0\u001b[39m, trigger\u001b[38;5;241m=\u001b[39m\u001b[38;5;241m0\u001b[39m):\n\u001b[0;32m     10\u001b[0m     density_matrix \u001b[38;5;241m=\u001b[39m qt\u001b[38;5;241m.\u001b[39mptrace(result\u001b[38;5;241m.\u001b[39mstates[time_index], [subsystem_index]) \u001b[38;5;66;03m# Calculate the density matrix at the specified time\u001b[39;00m\n\u001b[1;32m---> 11\u001b[0m     eigenvalues, eigenstates \u001b[38;5;241m=\u001b[39m \u001b[43mdensity_matrix\u001b[49m\u001b[38;5;241;43m.\u001b[39;49m\u001b[43meigenstates\u001b[49m\u001b[43m(\u001b[49m\u001b[43m)\u001b[49m \u001b[38;5;66;03m# Compute the eigenstates and eigenvalues of the density matrix\u001b[39;00m\n\u001b[0;32m     12\u001b[0m     eigenstates \u001b[38;5;241m=\u001b[39m [np\u001b[38;5;241m.\u001b[39marray(state) \u001b[38;5;28;01mfor\u001b[39;00m state \u001b[38;5;129;01min\u001b[39;00m eigenstates]\n\u001b[0;32m     13\u001b[0m     schmidt_states \u001b[38;5;241m=\u001b[39m []\n",
      "File \u001b[1;32m~\\energy-branching\\Lib\\site-packages\\qutip\\qobj.py:1710\u001b[0m, in \u001b[0;36mQobj.eigenstates\u001b[1;34m(self, sparse, sort, eigvals, tol, maxiter, phase_fix)\u001b[0m\n\u001b[0;32m   1666\u001b[0m \u001b[38;5;28;01mdef\u001b[39;00m \u001b[38;5;21meigenstates\u001b[39m(\u001b[38;5;28mself\u001b[39m, sparse\u001b[38;5;241m=\u001b[39m\u001b[38;5;28;01mFalse\u001b[39;00m, sort\u001b[38;5;241m=\u001b[39m\u001b[38;5;124m'\u001b[39m\u001b[38;5;124mlow\u001b[39m\u001b[38;5;124m'\u001b[39m, eigvals\u001b[38;5;241m=\u001b[39m\u001b[38;5;241m0\u001b[39m,\n\u001b[0;32m   1667\u001b[0m                 tol\u001b[38;5;241m=\u001b[39m\u001b[38;5;241m0\u001b[39m, maxiter\u001b[38;5;241m=\u001b[39m\u001b[38;5;241m100000\u001b[39m, phase_fix\u001b[38;5;241m=\u001b[39m\u001b[38;5;28;01mNone\u001b[39;00m):\n\u001b[0;32m   1668\u001b[0m \u001b[38;5;250m    \u001b[39m\u001b[38;5;124;03m\"\"\"Eigenstates and eigenenergies.\u001b[39;00m\n\u001b[0;32m   1669\u001b[0m \n\u001b[0;32m   1670\u001b[0m \u001b[38;5;124;03m    Eigenstates and eigenenergies are defined for operators and\u001b[39;00m\n\u001b[1;32m   (...)\u001b[0m\n\u001b[0;32m   1708\u001b[0m \n\u001b[0;32m   1709\u001b[0m \u001b[38;5;124;03m    \"\"\"\u001b[39;00m\n\u001b[1;32m-> 1710\u001b[0m     evals, evecs \u001b[38;5;241m=\u001b[39m \u001b[43msp_eigs\u001b[49m\u001b[43m(\u001b[49m\u001b[38;5;28;43mself\u001b[39;49m\u001b[38;5;241;43m.\u001b[39;49m\u001b[43mdata\u001b[49m\u001b[43m,\u001b[49m\u001b[43m \u001b[49m\u001b[38;5;28;43mself\u001b[39;49m\u001b[38;5;241;43m.\u001b[39;49m\u001b[43misherm\u001b[49m\u001b[43m,\u001b[49m\u001b[43m \u001b[49m\u001b[43msparse\u001b[49m\u001b[38;5;241;43m=\u001b[39;49m\u001b[43msparse\u001b[49m\u001b[43m,\u001b[49m\n\u001b[0;32m   1711\u001b[0m \u001b[43m                           \u001b[49m\u001b[43msort\u001b[49m\u001b[38;5;241;43m=\u001b[39;49m\u001b[43msort\u001b[49m\u001b[43m,\u001b[49m\u001b[43m \u001b[49m\u001b[43meigvals\u001b[49m\u001b[38;5;241;43m=\u001b[39;49m\u001b[43meigvals\u001b[49m\u001b[43m,\u001b[49m\u001b[43m \u001b[49m\u001b[43mtol\u001b[49m\u001b[38;5;241;43m=\u001b[39;49m\u001b[43mtol\u001b[49m\u001b[43m,\u001b[49m\n\u001b[0;32m   1712\u001b[0m \u001b[43m                           \u001b[49m\u001b[43mmaxiter\u001b[49m\u001b[38;5;241;43m=\u001b[39;49m\u001b[43mmaxiter\u001b[49m\u001b[43m)\u001b[49m\n\u001b[0;32m   1713\u001b[0m     \u001b[38;5;28;01mif\u001b[39;00m \u001b[38;5;28mself\u001b[39m\u001b[38;5;241m.\u001b[39mtype \u001b[38;5;241m==\u001b[39m \u001b[38;5;124m'\u001b[39m\u001b[38;5;124msuper\u001b[39m\u001b[38;5;124m'\u001b[39m:\n\u001b[0;32m   1714\u001b[0m         new_dims \u001b[38;5;241m=\u001b[39m [\u001b[38;5;28mself\u001b[39m\u001b[38;5;241m.\u001b[39mdims[\u001b[38;5;241m0\u001b[39m], [\u001b[38;5;241m1\u001b[39m]]\n",
      "File \u001b[1;32m~\\energy-branching\\Lib\\site-packages\\qutip\\sparse.py:379\u001b[0m, in \u001b[0;36msp_eigs\u001b[1;34m(data, isherm, vecs, sparse, sort, eigvals, tol, maxiter)\u001b[0m\n\u001b[0;32m    376\u001b[0m     evals, evecs \u001b[38;5;241m=\u001b[39m _sp_eigs(data, isherm, vecs, N, eigvals, num_large,\n\u001b[0;32m    377\u001b[0m                             num_small, tol, maxiter)\n\u001b[0;32m    378\u001b[0m \u001b[38;5;28;01melse\u001b[39;00m:\n\u001b[1;32m--> 379\u001b[0m     evals, evecs \u001b[38;5;241m=\u001b[39m \u001b[43m_dense_eigs\u001b[49m\u001b[43m(\u001b[49m\u001b[43mdata\u001b[49m\u001b[38;5;241;43m.\u001b[39;49m\u001b[43mtoarray\u001b[49m\u001b[43m(\u001b[49m\u001b[43m)\u001b[49m\u001b[43m,\u001b[49m\u001b[43m \u001b[49m\u001b[43misherm\u001b[49m\u001b[43m,\u001b[49m\u001b[43m \u001b[49m\u001b[43mvecs\u001b[49m\u001b[43m,\u001b[49m\u001b[43m \u001b[49m\u001b[43mN\u001b[49m\u001b[43m,\u001b[49m\u001b[43m \u001b[49m\u001b[43meigvals\u001b[49m\u001b[43m,\u001b[49m\n\u001b[0;32m    380\u001b[0m \u001b[43m                               \u001b[49m\u001b[43mnum_large\u001b[49m\u001b[43m,\u001b[49m\u001b[43m \u001b[49m\u001b[43mnum_small\u001b[49m\u001b[43m)\u001b[49m\n\u001b[0;32m    382\u001b[0m \u001b[38;5;28;01mif\u001b[39;00m sort \u001b[38;5;241m==\u001b[39m \u001b[38;5;124m'\u001b[39m\u001b[38;5;124mhigh\u001b[39m\u001b[38;5;124m'\u001b[39m:  \u001b[38;5;66;03m# flip arrays to largest values first\u001b[39;00m\n\u001b[0;32m    383\u001b[0m     \u001b[38;5;28;01mif\u001b[39;00m vecs:\n",
      "File \u001b[1;32m~\\energy-branching\\Lib\\site-packages\\qutip\\sparse.py:200\u001b[0m, in \u001b[0;36m_dense_eigs\u001b[1;34m(data, isherm, vecs, N, eigvals, num_large, num_small)\u001b[0m\n\u001b[0;32m    197\u001b[0m     \u001b[38;5;28;01melse\u001b[39;00m:\n\u001b[0;32m    198\u001b[0m         evals \u001b[38;5;241m=\u001b[39m la\u001b[38;5;241m.\u001b[39meigvals(data)\n\u001b[1;32m--> 200\u001b[0m _zipped \u001b[38;5;241m=\u001b[39m \u001b[38;5;28mlist\u001b[39m(\u001b[38;5;28mzip\u001b[39m(evals, \u001b[38;5;28;43mrange\u001b[39;49m\u001b[43m(\u001b[49m\u001b[38;5;28;43mlen\u001b[39;49m\u001b[43m(\u001b[49m\u001b[43mevals\u001b[49m\u001b[43m)\u001b[49m\u001b[43m)\u001b[49m))\n\u001b[0;32m    201\u001b[0m _zipped\u001b[38;5;241m.\u001b[39msort()\n\u001b[0;32m    202\u001b[0m evals, perm \u001b[38;5;241m=\u001b[39m \u001b[38;5;28mlist\u001b[39m(\u001b[38;5;28mzip\u001b[39m(\u001b[38;5;241m*\u001b[39m_zipped))\n",
      "\u001b[1;31mKeyboardInterrupt\u001b[0m: "
     ]
    }
   ],
   "source": [
    "plot_Neff_schmidt(H_total,result)"
   ]
  },
  {
   "cell_type": "code",
   "execution_count": null,
   "id": "10fe0e51-2646-45db-adc9-dbd3d176e630",
   "metadata": {},
   "outputs": [],
   "source": [
    "plot_Neff_schmidt(H_total1,result1)"
   ]
  },
  {
   "cell_type": "code",
   "execution_count": null,
   "id": "f4e839fa-b64e-41d1-8088-1d66c353805c",
   "metadata": {},
   "outputs": [],
   "source": [
    "plot_Neff_schmidt(H_total2,result2)"
   ]
  },
  {
   "cell_type": "code",
   "execution_count": null,
   "id": "669b0657-924b-4347-96a6-6234e1f255ca",
   "metadata": {},
   "outputs": [],
   "source": [
    "plot_Neff_schmidt(H_total3,result3)"
   ]
  },
  {
   "cell_type": "code",
   "execution_count": null,
   "id": "1a2a2eba-41d2-441c-a958-30e9dc4c9601",
   "metadata": {},
   "outputs": [],
   "source": [
    "plot_Neff_schmidt(H_total4,result4)"
   ]
  },
  {
   "cell_type": "code",
   "execution_count": null,
   "id": "16acdfcc-c0b8-492b-809d-1efb62b92d96",
   "metadata": {},
   "outputs": [],
   "source": [
    "plot_Neff_schmidt(H_total5,result5)"
   ]
  },
  {
   "cell_type": "code",
   "execution_count": null,
   "id": "0493501e-e174-4bae-a879-389f80930eca",
   "metadata": {},
   "outputs": [],
   "source": [
    "plot_Neff_schmidt(H_total6,result6)"
   ]
  },
  {
   "cell_type": "code",
   "execution_count": null,
   "id": "e7798a7e-46bc-497c-9cba-4311e8904910",
   "metadata": {},
   "outputs": [],
   "source": []
  },
  {
   "cell_type": "code",
   "execution_count": null,
   "id": "94f2737c-7b7f-4633-9091-be7d6fdc9adc",
   "metadata": {},
   "outputs": [],
   "source": []
  },
  {
   "cell_type": "code",
   "execution_count": null,
   "id": "d460f1ea-4b0f-416f-9fa6-330b1a2862a7",
   "metadata": {},
   "outputs": [],
   "source": []
  },
  {
   "cell_type": "code",
   "execution_count": null,
   "id": "03f216e5-2c90-49e7-b131-a671f16ccb21",
   "metadata": {},
   "outputs": [],
   "source": []
  },
  {
   "cell_type": "code",
   "execution_count": null,
   "id": "9e0fb316-1247-4dd0-b129-ba73e6acac4a",
   "metadata": {},
   "outputs": [],
   "source": []
  },
  {
   "cell_type": "code",
   "execution_count": null,
   "id": "3339181f-0159-4c0b-b399-c5af251acaa1",
   "metadata": {},
   "outputs": [],
   "source": []
  }
 ],
 "metadata": {
  "kernelspec": {
   "display_name": "Python 3 (ipykernel)",
   "language": "python",
   "name": "python3"
  },
  "language_info": {
   "codemirror_mode": {
    "name": "ipython",
    "version": 3
   },
   "file_extension": ".py",
   "mimetype": "text/x-python",
   "name": "python",
   "nbconvert_exporter": "python",
   "pygments_lexer": "ipython3",
   "version": "3.12.2"
  }
 },
 "nbformat": 4,
 "nbformat_minor": 5
}

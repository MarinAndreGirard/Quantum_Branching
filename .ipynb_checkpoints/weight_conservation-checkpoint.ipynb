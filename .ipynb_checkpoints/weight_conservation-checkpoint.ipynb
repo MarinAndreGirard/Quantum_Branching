{
 "cells": [
  {
   "cell_type": "code",
   "execution_count": 1,
   "id": "9bb4a5bd-a193-4368-8795-7ad0043c82a7",
   "metadata": {},
   "outputs": [],
   "source": [
    "#Doing the weight conservation thing but it works this time.\n",
    "\n",
    "#I want to look at the sum of probabilities that schmidt states are in an energy eigenstates. \n",
    "#I expect that it is conserved, but my gifs seems to be showing something different.\n",
    "#correct that, we obviously dont have that the sum of weights is summed on a energie eigenstate, but maybe that the sum of weights, weighted by the schmidt value is.\n",
    "#find a way to check that.\n",
    "\n",
    "import numpy as np\n",
    "import qutip as qt\n",
    "import math\n",
    "import matplotlib.pyplot as plt\n",
    "from q_solve import test\n",
    "from q_solve import generate_result\n",
    "from Schmidt_solve import compute_schmidt_states_new\n",
    "from Schmidt_solve import compute_schmidt_full\n"
   ]
  },
  {
   "cell_type": "code",
   "execution_count": 2,
   "id": "5e56f11c-61ab-405a-adef-63a05959bf43",
   "metadata": {},
   "outputs": [],
   "source": [
    "#defining all quantities used in the simulation\n",
    "d1, d2 = 10, 200\n",
    "w = 0.3# smallest weight of the 2 eingestates, set btw 0 and 1\n",
    "E_spacing = 1.0\n",
    "Int_strength = 0.03\n",
    "# Define the time settings for the simulation\n",
    "tmax= 10\n",
    "ind_nb = 100\n",
    "#using all above to obtain QM qtts\n",
    "result, tlist, H_q, H_system_2, H_system_1_ext, H_system_2_ext, H_interaction, H_total, ket_0, ket_1, initial_state_system_2 = generate_result(d1,d2,w, E_spacing, Int_strength, tmax, ind_nb,1)\n",
    "time_indices = [0, 10, 20, 30, 49]  # Specify the time indices of interest\n",
    "\n"
   ]
  },
  {
   "cell_type": "code",
   "execution_count": 7,
   "id": "9cf0d449-70d8-4fc5-b9a7-407ec2503976",
   "metadata": {},
   "outputs": [
    {
     "ename": "NameError",
     "evalue": "name 'd2' is not defined",
     "output_type": "error",
     "traceback": [
      "\u001b[0;31m---------------------------------------------------------------------------\u001b[0m",
      "\u001b[0;31mNameError\u001b[0m                                 Traceback (most recent call last)",
      "Cell \u001b[0;32mIn[7], line 9\u001b[0m\n\u001b[1;32m      7\u001b[0m t_ind \u001b[38;5;241m=\u001b[39m \u001b[38;5;28mrange\u001b[39m(\u001b[38;5;28mlen\u001b[39m(tlist))\n\u001b[1;32m      8\u001b[0m \u001b[38;5;28;01mfor\u001b[39;00m idx \u001b[38;5;129;01min\u001b[39;00m t_ind:\n\u001b[0;32m----> 9\u001b[0m     ss, se, sv \u001b[38;5;241m=\u001b[39m \u001b[43mcompute_schmidt_states_new\u001b[49m\u001b[43m(\u001b[49m\u001b[43mresult\u001b[49m\u001b[43m,\u001b[49m\u001b[43m \u001b[49m\u001b[43midx\u001b[49m\u001b[43m)\u001b[49m\n\u001b[1;32m     10\u001b[0m     s_val_0\u001b[38;5;241m.\u001b[39mappend(sv[\u001b[38;5;241m0\u001b[39m])\n\u001b[1;32m     11\u001b[0m     s_val_1\u001b[38;5;241m.\u001b[39mappend(sv[\u001b[38;5;241m1\u001b[39m])\n",
      "File \u001b[0;32m~/Dev/Quantum_Branching/Schmidt_solve.py:35\u001b[0m, in \u001b[0;36mcompute_schmidt_states_new\u001b[0;34m(result, time_index)\u001b[0m\n\u001b[1;32m     33\u001b[0m \u001b[38;5;66;03m#compute the schmidt states of the environement.\u001b[39;00m\n\u001b[1;32m     34\u001b[0m schmidt_states_e \u001b[38;5;241m=\u001b[39m []\n\u001b[0;32m---> 35\u001b[0m I \u001b[38;5;241m=\u001b[39m np\u001b[38;5;241m.\u001b[39meye(\u001b[43md2\u001b[49m)\n\u001b[1;32m     36\u001b[0m \u001b[38;5;28;01mfor\u001b[39;00m j \u001b[38;5;129;01min\u001b[39;00m \u001b[38;5;28mrange\u001b[39m(i):\n\u001b[1;32m     37\u001b[0m     state \u001b[38;5;241m=\u001b[39m schmidt_states_s[j]\n",
      "\u001b[0;31mNameError\u001b[0m: name 'd2' is not defined"
     ]
    }
   ],
   "source": [
    "#testing new function\n",
    "\n",
    "#need a plpot of schmidt value over time\n",
    "\n",
    "s_val_0=[]\n",
    "s_val_1=[]\n",
    "t_ind = range(len(tlist))\n",
    "for idx in t_ind:\n",
    "    ss, se, sv = compute_schmidt_states_new(result, idx)\n",
    "    s_val_0.append(sv[0])\n",
    "    s_val_1.append(sv[1])\n",
    "\n",
    "plt.figure(figsize=(10, 5))\n",
    "plt.plot(tlist,s_val_0, marker='+')\n",
    "plt.plot(tlist,s_val_1, marker='+')\n",
    "plt.title('Evolution of Top 2 Eigenvalues Over Time')\n",
    "plt.xlabel('Time')\n",
    "plt.ylabel('Eigenvalue Magnitude')\n"
   ]
  },
  {
   "cell_type": "code",
   "execution_count": null,
   "id": "ff182153-481f-4ccd-bca4-19985eabaee0",
   "metadata": {},
   "outputs": [],
   "source": []
  },
  {
   "cell_type": "code",
   "execution_count": null,
   "id": "861a463d-8ec8-4486-8530-d336e1f5f9f1",
   "metadata": {},
   "outputs": [],
   "source": []
  },
  {
   "cell_type": "code",
   "execution_count": null,
   "id": "2befa1a9-496a-48ae-bd25-2ce3e653d066",
   "metadata": {},
   "outputs": [],
   "source": []
  },
  {
   "cell_type": "code",
   "execution_count": null,
   "id": "cc42bc71-0fc7-4b36-9015-885280490f1e",
   "metadata": {},
   "outputs": [],
   "source": []
  },
  {
   "cell_type": "code",
   "execution_count": null,
   "id": "e2ddf016-8f2d-462e-9afe-ed8915a5ef68",
   "metadata": {},
   "outputs": [],
   "source": []
  },
  {
   "cell_type": "code",
   "execution_count": null,
   "id": "cadb235d-66dc-48ff-a1bc-9744ea12f7b9",
   "metadata": {},
   "outputs": [],
   "source": []
  },
  {
   "cell_type": "code",
   "execution_count": null,
   "id": "3b61edc9-ecf5-4c20-9d37-9fa8e65bd918",
   "metadata": {},
   "outputs": [],
   "source": []
  },
  {
   "cell_type": "code",
   "execution_count": null,
   "id": "1690ce07-71e4-4310-96d5-ebba0841491d",
   "metadata": {},
   "outputs": [],
   "source": []
  },
  {
   "cell_type": "code",
   "execution_count": null,
   "id": "f672f34a-fa68-47d1-8d5f-6cd4db927d1f",
   "metadata": {},
   "outputs": [],
   "source": []
  },
  {
   "cell_type": "code",
   "execution_count": null,
   "id": "f0bcee63-c92f-4179-b357-ab73b05fa6ce",
   "metadata": {},
   "outputs": [],
   "source": []
  },
  {
   "cell_type": "code",
   "execution_count": null,
   "id": "438728df-f60a-4efd-9867-ccd07ae36ddc",
   "metadata": {},
   "outputs": [],
   "source": []
  },
  {
   "cell_type": "code",
   "execution_count": null,
   "id": "265af8fd-728b-49c1-8f90-eaec6d3560e0",
   "metadata": {},
   "outputs": [],
   "source": []
  },
  {
   "cell_type": "code",
   "execution_count": null,
   "id": "905a69bd-2f9e-418f-b1a1-52dcff5fc9bc",
   "metadata": {},
   "outputs": [],
   "source": []
  },
  {
   "cell_type": "code",
   "execution_count": null,
   "id": "6d896c00-d447-4699-b76c-dc8288aa7eee",
   "metadata": {},
   "outputs": [],
   "source": []
  },
  {
   "cell_type": "code",
   "execution_count": null,
   "id": "2f889846-ae9e-4a10-9fc4-71e378ce0f07",
   "metadata": {},
   "outputs": [],
   "source": []
  },
  {
   "cell_type": "code",
   "execution_count": null,
   "id": "19705511-3940-4f2d-b842-6b9042b7efb4",
   "metadata": {},
   "outputs": [],
   "source": []
  },
  {
   "cell_type": "code",
   "execution_count": null,
   "id": "e27e1564-c7df-4c3e-9fb6-cc273167449b",
   "metadata": {},
   "outputs": [],
   "source": []
  },
  {
   "cell_type": "code",
   "execution_count": null,
   "id": "e1a3087b-7613-4a7c-9435-27dbbdcef3c5",
   "metadata": {},
   "outputs": [],
   "source": []
  },
  {
   "cell_type": "code",
   "execution_count": null,
   "id": "642c1df5-3de1-4521-ba19-d94d7e172896",
   "metadata": {},
   "outputs": [],
   "source": []
  },
  {
   "cell_type": "code",
   "execution_count": null,
   "id": "aae8bb03-0c20-4672-9d25-305c9f6ca0f6",
   "metadata": {},
   "outputs": [],
   "source": []
  },
  {
   "cell_type": "code",
   "execution_count": null,
   "id": "e9cd6a3e-a32b-47b7-a6aa-3c8711673f47",
   "metadata": {},
   "outputs": [],
   "source": []
  },
  {
   "cell_type": "code",
   "execution_count": null,
   "id": "50676874-3988-4153-b778-9990c081991e",
   "metadata": {},
   "outputs": [],
   "source": []
  },
  {
   "cell_type": "code",
   "execution_count": null,
   "id": "e37db205-685a-4ef5-9f1c-d5f99fbfe74e",
   "metadata": {},
   "outputs": [],
   "source": []
  },
  {
   "cell_type": "code",
   "execution_count": null,
   "id": "872adad4-65c3-43dc-8c76-bb0a3a729945",
   "metadata": {},
   "outputs": [],
   "source": []
  },
  {
   "cell_type": "code",
   "execution_count": null,
   "id": "75d87c75-f107-418a-855b-55efdd087171",
   "metadata": {},
   "outputs": [],
   "source": []
  },
  {
   "cell_type": "code",
   "execution_count": null,
   "id": "1faf4e78-c467-4214-aa3d-d05577591086",
   "metadata": {},
   "outputs": [],
   "source": []
  }
 ],
 "metadata": {
  "kernelspec": {
   "display_name": "Python 3 (ipykernel)",
   "language": "python",
   "name": "python3"
  },
  "language_info": {
   "codemirror_mode": {
    "name": "ipython",
    "version": 3
   },
   "file_extension": ".py",
   "mimetype": "text/x-python",
   "name": "python",
   "nbconvert_exporter": "python",
   "pygments_lexer": "ipython3",
   "version": "3.11.7"
  }
 },
 "nbformat": 4,
 "nbformat_minor": 5
}

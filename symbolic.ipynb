{
 "cells": [
  {
   "cell_type": "code",
   "execution_count": 4,
   "metadata": {},
   "outputs": [
    {
     "name": "stdout",
     "output_type": "stream",
     "text": [
      "Eigenvectors:\n",
      "Eigenvalue: a/2 + d/2 - sqrt(a**2 - 2*a*d + 4*b*c + d**2)/2, Multiplicity: 1\n",
      "Eigenvector (before normalization and simplification):\n",
      "Matrix([[-d/c + (a/2 + d/2 - sqrt(a**2 - 2*a*d + 4*b*c + d**2)/2)/c], [1]])\n",
      "Eigenvector (after normalization and simplification):\n",
      "Matrix([[(a - d - sqrt(a**2 - 2*a*d + 4*b*c + d**2))/(c*sqrt(Abs((-a + d + sqrt(a**2 - 2*a*d + 4*b*c + d**2))/c)**2 + 4))], [2/sqrt(Abs((-a + d + sqrt(a**2 - 2*a*d + 4*b*c + d**2))/c)**2 + 4)]])\n",
      "\n",
      "Eigenvalue: a/2 + d/2 + sqrt(a**2 - 2*a*d + 4*b*c + d**2)/2, Multiplicity: 1\n",
      "Eigenvector (before normalization and simplification):\n",
      "Matrix([[-d/c + (a/2 + d/2 + sqrt(a**2 - 2*a*d + 4*b*c + d**2)/2)/c], [1]])\n",
      "Eigenvector (after normalization and simplification):\n",
      "Matrix([[(a - d + sqrt(a**2 - 2*a*d + 4*b*c + d**2))/(c*sqrt(Abs((a - d + sqrt(a**2 - 2*a*d + 4*b*c + d**2))/c)**2 + 4))], [2/sqrt(Abs((a - d + sqrt(a**2 - 2*a*d + 4*b*c + d**2))/c)**2 + 4)]])\n",
      "\n"
     ]
    }
   ],
   "source": [
    "import sympy as sp\n",
    "\n",
    "# Define symbolic variables\n",
    "a, b, c, d = sp.symbols('a b c d')\n",
    "\n",
    "# Define the matrix symbolically\n",
    "A = sp.Matrix([[a, b],\n",
    "               [c, d]])\n",
    "\n",
    "# Compute eigenvalues and eigenvectors\n",
    "eigenvectors = A.eigenvects()\n",
    "\n",
    "# Print eigenvectors\n",
    "print(\"Eigenvectors:\")\n",
    "for eigenvalue, multiplicity, eigenvector in eigenvectors:\n",
    "    print(f\"Eigenvalue: {eigenvalue}, Multiplicity: {multiplicity}\")\n",
    "    print(\"Eigenvector (before normalization and simplification):\")\n",
    "    for vector in eigenvector:\n",
    "        # Print eigenvector components in terms of variables\n",
    "        print(vector)\n",
    "    \n",
    "    # Normalize eigenvector\n",
    "    normalized_eigenvectors = [vector / vector.norm() for vector in eigenvector]\n",
    "    \n",
    "    print(\"Eigenvector (after normalization and simplification):\")\n",
    "    for normalized_vector in normalized_eigenvectors:\n",
    "        # Simplify the normalized eigenvector\n",
    "        simplified_vector = sp.simplify(normalized_vector)\n",
    "        # Print simplified eigenvector components\n",
    "        print(simplified_vector)\n",
    "    \n",
    "    print()\n"
   ]
  },
  {
   "cell_type": "code",
   "execution_count": null,
   "metadata": {},
   "outputs": [],
   "source": []
  }
 ],
 "metadata": {
  "kernelspec": {
   "display_name": "Quantum_Branching",
   "language": "python",
   "name": "python3"
  },
  "language_info": {
   "codemirror_mode": {
    "name": "ipython",
    "version": 3
   },
   "file_extension": ".py",
   "mimetype": "text/x-python",
   "name": "python",
   "nbconvert_exporter": "python",
   "pygments_lexer": "ipython3",
   "version": "3.11.7"
  }
 },
 "nbformat": 4,
 "nbformat_minor": 2
}

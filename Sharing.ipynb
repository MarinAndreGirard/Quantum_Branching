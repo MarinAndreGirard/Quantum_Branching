{
 "cells": [
  {
   "cell_type": "markdown",
   "metadata": {},
   "source": [
    "The gaol of this notebook is to show that there is an interesting sharing behavior of the energy eigenstates.\n",
    "\n"
   ]
  },
  {
   "cell_type": "code",
   "execution_count": 1,
   "metadata": {},
   "outputs": [],
   "source": [
    "import numpy as np\n",
    "import qutip as qt\n",
    "import math\n",
    "import matplotlib.pyplot as plt\n",
    "from ipywidgets import interact\n",
    "import ipywidgets as widgets\n",
    "\n",
    "from q_solve import generate_result\n",
    "from q_solve import generate_result_envi_superpo\n",
    "from q_solve import generate_result_more\n",
    "from Schmidt_solve import compute_schmidt_states_new\n",
    "from Schmidt_solve import compute_schmidt_full\n",
    "from VN import plot_VN\n",
    "from VN import compute_VN_time\n",
    "from e_spectrum import plot_e_spectrum\n",
    "from Neff import plot_Neff_schmidt_Neff_tot\n",
    "from checkup import checkup\n",
    "from make_gif import make_gif_distribs1s2_new\n",
    "from make_gif import make_gif_distribs1s2_new_zoomed\n",
    "from make_gif import make_gif_distrib_pointer\n",
    "from make_gif import make_gif_distrib_pointer_s1\n",
    "from make_gif import make_gif_distrib_pointer_s2\n",
    "from make_gif import make_gif_distrib_interf\n",
    "\n",
    "from matplotlib.animation import FuncAnimation\n",
    "from IPython.display import HTML\n",
    "from PIL import Image\n",
    "#from overlap import compute_schmidt_full\n"
   ]
  },
  {
   "cell_type": "code",
   "execution_count": null,
   "metadata": {},
   "outputs": [],
   "source": []
  },
  {
   "cell_type": "code",
   "execution_count": 5,
   "metadata": {},
   "outputs": [],
   "source": [
    "#testting the zoom\n",
    "#defining all quantities used in the simulation\n",
    "d1, d2 = 10, 200\n",
    "w = 0.3# smallest weight of the 2 eingestates, set btw 0 and 1\n",
    "E_spacing = 1.0\n",
    "Int_strength = 0.03\n",
    "# Define the time settings for the simulation\n",
    "tmax= 10\n",
    "ind_nb = 100\n",
    "result, tlist, H_q, H_system_2, H_system_1_ext, H_system_2_ext, H_interaction, H_total, ket_0, ket_1, initial_state_system_2 = generate_result(d1,d2,w, E_spacing, Int_strength, tmax, ind_nb,0)\n",
    "eigenenergies_total, eigenstates_total = H_interaction.eigenstates() "
   ]
  },
  {
   "cell_type": "code",
   "execution_count": 9,
   "metadata": {},
   "outputs": [
    {
     "name": "stdout",
     "output_type": "stream",
     "text": [
      "[0]\n"
     ]
    },
    {
     "data": {
      "text/html": [
       "<img src=\"Gifs/distrib_schmidt1_2_over_energy_spectrum_EI_0.03_w_0.3_env_NA_d1_10_d2_200_Espace_1.0_tmax_10_ind_nb_100.gif\">"
      ],
      "text/plain": [
       "<IPython.core.display.HTML object>"
      ]
     },
     "metadata": {},
     "output_type": "display_data"
    }
   ],
   "source": [
    "make_gif_distribs1s2_new(Int_strength,w,result,eigenstates_total,eigenenergies_total,[0],d1,d2,E_spacing,tmax,ind_nb)\n",
    "\n",
    "# Replace 'path_to_your_gif.gif' with the path to your GIF file\n",
    "gif_path = f'Gifs/distrib_schmidt1_2_over_energy_spectrum_EI_{Int_strength}_w_{w}_env_NA_d1_{d1}_d2_{d2}_Espace_{E_spacing}_tmax_{tmax}_ind_nb_{ind_nb}.gif'\n",
    "\n",
    "# Create HTML code to display the GIF\n",
    "html_code = f'<img src=\"{gif_path}\">'\n",
    "\n",
    "# Display the GIF\n",
    "display(HTML(html_code))\n"
   ]
  },
  {
   "cell_type": "code",
   "execution_count": null,
   "metadata": {},
   "outputs": [],
   "source": [
    "f'Gifs/zoomed_distrib_schmidt1_2_over_energy_spectrum_EI_{EI}_w_{w}_env_NA_d1_{d1}_d2_{d2}_Espace_{E_spacing}_tmax_{tmax}_ind_nb_{ind_nb}.gif'"
   ]
  },
  {
   "cell_type": "code",
   "execution_count": null,
   "metadata": {},
   "outputs": [],
   "source": []
  },
  {
   "cell_type": "code",
   "execution_count": null,
   "metadata": {},
   "outputs": [],
   "source": []
  },
  {
   "cell_type": "code",
   "execution_count": null,
   "metadata": {},
   "outputs": [],
   "source": []
  },
  {
   "cell_type": "code",
   "execution_count": null,
   "metadata": {},
   "outputs": [],
   "source": []
  },
  {
   "cell_type": "code",
   "execution_count": null,
   "metadata": {},
   "outputs": [],
   "source": []
  },
  {
   "cell_type": "code",
   "execution_count": null,
   "metadata": {},
   "outputs": [],
   "source": []
  },
  {
   "cell_type": "code",
   "execution_count": null,
   "metadata": {},
   "outputs": [],
   "source": []
  },
  {
   "cell_type": "code",
   "execution_count": null,
   "metadata": {},
   "outputs": [],
   "source": []
  },
  {
   "cell_type": "code",
   "execution_count": null,
   "metadata": {},
   "outputs": [],
   "source": []
  },
  {
   "cell_type": "code",
   "execution_count": null,
   "metadata": {},
   "outputs": [],
   "source": []
  },
  {
   "cell_type": "code",
   "execution_count": null,
   "metadata": {},
   "outputs": [],
   "source": []
  },
  {
   "cell_type": "code",
   "execution_count": null,
   "metadata": {},
   "outputs": [],
   "source": []
  },
  {
   "cell_type": "code",
   "execution_count": null,
   "metadata": {},
   "outputs": [],
   "source": []
  }
 ],
 "metadata": {
  "kernelspec": {
   "display_name": "Quantum_Branching",
   "language": "python",
   "name": "python3"
  },
  "language_info": {
   "codemirror_mode": {
    "name": "ipython",
    "version": 3
   },
   "file_extension": ".py",
   "mimetype": "text/x-python",
   "name": "python",
   "nbconvert_exporter": "python",
   "pygments_lexer": "ipython3",
   "version": "3.11.7"
  }
 },
 "nbformat": 4,
 "nbformat_minor": 2
}

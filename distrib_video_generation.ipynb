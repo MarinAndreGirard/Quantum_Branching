{
 "cells": [
  {
   "cell_type": "markdown",
   "id": "a475ccb3",
   "metadata": {},
   "source": [
    "We look at the time evolution of $p(|s_i\\rangle,|A_k\\rangle)\\forall k$ directly, which is the probability that schmidt i $|s_i\\rangle$ be in the k's total energy eigenstate $|A_k\\rangle$.\n",
    "\n",
    "Being interested in how weight in the total energy eigenstates might not be shared evenly between the 2 Schmidt states, this serves the purpose of directly showing it, and helping us find useful tools to quantify it. "
   ]
  },
  {
   "cell_type": "code",
   "execution_count": 1,
   "id": "0f66b556-f65d-498c-a69e-54d56d86014d",
   "metadata": {},
   "outputs": [],
   "source": [
    "import numpy as np\n",
    "import qutip as qt\n",
    "import math\n",
    "import matplotlib.pyplot as plt\n",
    "from ipywidgets import interact\n",
    "import ipywidgets as widgets\n",
    "\n",
    "from q_solve import generate_result\n",
    "from q_solve import generate_result_envi_superpo\n",
    "from Schmidt_solve import compute_schmidt_states_new\n",
    "from Schmidt_solve import compute_schmidt_full\n",
    "from VN import plot_VN\n",
    "from VN import compute_VN_time\n",
    "from e_spectrum import plot_e_spectrum\n",
    "from Neff import plot_Neff_schmidt_Neff_tot\n",
    "from checkup import checkup\n",
    "from make_gif import make_gif_distribs1s2_new\n",
    "\n",
    "from matplotlib.animation import FuncAnimation\n",
    "from IPython.display import HTML\n",
    "from PIL import Image\n",
    "#from overlap import compute_schmidt_full\n"
   ]
  },
  {
   "cell_type": "code",
   "execution_count": 5,
   "id": "4090eb06",
   "metadata": {},
   "outputs": [],
   "source": [
    "#defining all quantities used in the simulation\n",
    "d1, d2 = 10, 200\n",
    "w = 0.3# smallest weight of the 2 eingestates, set btw 0 and 1\n",
    "E_spacing = 1.0\n",
    "Int_strength = 0.02\n",
    "# Define the time settings for the simulation\n",
    "tmax= 10\n",
    "ind_nb = 100\n",
    "\n",
    "result, tlist, H_q, H_system_2, H_system_1_ext, H_system_2_ext, H_interaction, H_total, ket_0, ket_1, initial_state_system_2 = generate_result(d1,d2,w, E_spacing, Int_strength, tmax, ind_nb,0)\n",
    "EI = Int_strength\n",
    "eigenenergies_total, eigenstates_total = H_total.eigenstates() "
   ]
  },
  {
   "cell_type": "code",
   "execution_count": 6,
   "id": "c64e731e",
   "metadata": {},
   "outputs": [
    {
     "name": "stdout",
     "output_type": "stream",
     "text": [
      "[0]\n"
     ]
    }
   ],
   "source": [
    "make_gif_distribs1s2_new(EI,w,result,eigenstates_total,eigenenergies_total,[0],d1,d2,E_spacing,tmax,ind_nb)"
   ]
  },
  {
   "cell_type": "markdown",
   "id": "733d9689",
   "metadata": {},
   "source": [
    "We define the necessary functions."
   ]
  },
  {
   "cell_type": "code",
   "execution_count": 2,
   "id": "eba0119f-d470-449a-8e8a-1695ead4e049",
   "metadata": {},
   "outputs": [],
   "source": [
    "\n",
    "'''\n",
    "\n",
    "def update_plot(frames):\n",
    "    # Clear previous plot\n",
    "    plt.clf()\n",
    "    frames = frames+1\n",
    "    state = compute_schmidt_full(result,frames,1)\n",
    "    state2 = compute_schmidt_full(result,frames,2)\n",
    "    energy_coeff=[abs(np.vdot(state, eigenstate)) ** 2 for eigenstate in eigenstates_total]\n",
    "    energy_coeff2=[abs(np.vdot(state2, eigenstate)) ** 2 for eigenstate in eigenstates_total]\n",
    "    plt.plot(eigenenergies_total,energy_coeff);\n",
    "    plt.plot(eigenenergies_total,energy_coeff2);\n",
    "    plt.title(f\"Plot of the probability that Schmidt1 and 2 are in the energy eigenstates for EI={EI} and w={w}\")\n",
    "    plt.xlabel(\"Eigenenergies of H_total\")\n",
    "    plt.ylabel(\"Probabilities\")\n",
    "    plt.legend([\"Schmidt1\",\"Schmidt2\"])\n",
    "    plt.ylim(0, 0.25)\n",
    "\n",
    "def update_plot1(frames):\n",
    "    # Clear previous plot\n",
    "    plt.clf()\n",
    "    frames = frames+1\n",
    "    state = compute_schmidt_full(result,frames,1)\n",
    "    energy_coeff=[abs(np.vdot(state, eigenstate)) ** 2 for eigenstate in eigenstates_total]\n",
    "    plt.plot(eigenenergies_total,energy_coeff);\n",
    "    plt.title(f\"Plot of the probability that Schmidt1 be in energy eigenstates for EI={EI} and w={w}\")\n",
    "    plt.xlabel(\"Eigenenergies of H_total\")\n",
    "    plt.ylabel(\"Probabilities\")\n",
    "    plt.legend([\"Schmidt1\"])\n",
    "    plt.ylim(0, 0.25)\n",
    "    \n",
    "def update_plot2(frames):\n",
    "    # Clear previous plot\n",
    "    frames = frames+1\n",
    "    plt.clf()\n",
    "    state2 = compute_schmidt_full(result,frames,2)\n",
    "    energy_coeff2=[abs(np.vdot(state2, eigenstate)) ** 2 for eigenstate in eigenstates_total]\n",
    "    plt.plot(eigenenergies_total,energy_coeff2);\n",
    "    plt.title(f\"Plot of the probability that Schmidt 2 be in an energy eigenstates for EI={EI} and w={w}\")\n",
    "    plt.xlabel(\"Eigenenergies of H_total\")\n",
    "    plt.ylabel(\"Probabilities\")\n",
    "    plt.legend([\"Schmidt2\"])\n",
    "    plt.ylim(0, 0.25)\n",
    "\n",
    "def make_gif_distribs1s2(EI,w):#H_total,result,EI\n",
    "\n",
    "    # Create a figure\n",
    "    fig = plt.figure(figsize=(10, 5))\n",
    "    \n",
    "    # Create the animation\n",
    "    ani = FuncAnimation(fig, update_plot, frames=99, interval=100)\n",
    "\n",
    "    # Save the animation as a GIF\n",
    "    ani.save(f'Gifs/distrib_schmidt1_2_over_energy_spectrum_EI_{EI}_w_{w}.gif', writer='pillow')\n",
    "\n",
    "def make_gif_distribs1(EI,w):\n",
    "    # Create a figure\n",
    "    fig = plt.figure(figsize=(10, 5))\n",
    "    \n",
    "    # Create the animation\n",
    "    ani = FuncAnimation(fig, update_plot1, frames=99, interval=100)\n",
    "    \n",
    "    # Save the animation as a GIF\n",
    "    ani.save(f'Gifs/Graphs/distrib_schmidt1_over_energy_spectrum_EI_{EI}_w_{w}.gif', writer='pillow')\n",
    "\n",
    "def make_gif_distribs2(EI,w):\n",
    "    # Create a figure\n",
    "    fig = plt.figure(figsize=(10, 5))\n",
    "    \n",
    "    # Create the animation\n",
    "    ani = FuncAnimation(fig, update_plot2, frames=99, interval=100)\n",
    "    \n",
    "    # Save the animation as a GIF\n",
    "    ani.save(f'Gifs/Graphs/distrib_schmidt2_over_energy_spectrum_EI_{EI}_w_{w}.gif', writer='pillow')\n",
    "    '''\n"
   ]
  },
  {
   "cell_type": "code",
   "execution_count": 7,
   "id": "e27493eb",
   "metadata": {},
   "outputs": [
    {
     "name": "stdout",
     "output_type": "stream",
     "text": [
      "[75, 150]\n"
     ]
    }
   ],
   "source": [
    "d1, d2 = 10, 200\n",
    "E_spacing = 1.0\n",
    "Int_strength = 0.033\n",
    "EI=Int_strength\n",
    "tmax= 10\n",
    "ind_nb = 100\n",
    "w=0.3\n",
    "env = [75,150]\n",
    "result, tlist, H_q, H_system_2, H_system_1_ext, H_system_2_ext, H_interaction, H_total, ket_0, ket_1, initial_state_system_2 = generate_result_envi_superpo(d1,d2,w, E_spacing, Int_strength, tmax, ind_nb,0,env) \n",
    "eigenenergies_total, eigenstates_total = H_total.eigenstates()\n",
    "\n",
    "make_gif_distribs1s2_new(EI,w,result,eigenstates_total,eigenenergies_total,env,d1,d2,E_spacing,tmax,ind_nb)"
   ]
  },
  {
   "cell_type": "code",
   "execution_count": null,
   "id": "e55c264f-24fa-4e58-bdc7-3b1b97b920aa",
   "metadata": {},
   "outputs": [],
   "source": []
  },
  {
   "cell_type": "code",
   "execution_count": null,
   "id": "0c2335c9-73ec-4741-b5c1-399134761079",
   "metadata": {},
   "outputs": [],
   "source": []
  },
  {
   "cell_type": "code",
   "execution_count": 8,
   "id": "40907a2e-0e4f-4aa6-b1a2-1d967b10a065",
   "metadata": {},
   "outputs": [
    {
     "name": "stdout",
     "output_type": "stream",
     "text": [
      "[0]\n"
     ]
    }
   ],
   "source": [
    "#defining all quantities used in the simulation\n",
    "d1, d2 = 10, 200\n",
    "w = 0.3# smallest weight of the 2 eingestates, set btw 0 and 1\n",
    "E_spacing = 1.0\n",
    "Int_strength = 0.06\n",
    "# Define the time settings for the simulation\n",
    "tmax= 10\n",
    "ind_nb = 100\n",
    "\n",
    "result, tlist, H_q, H_system_2, H_system_1_ext, H_system_2_ext, H_interaction, H_total, ket_0, ket_1, initial_state_system_2 = generate_result(d1,d2,w, E_spacing, Int_strength, tmax, ind_nb,0)\n",
    "eigenenergies_total, eigenstates_total = H_total.eigenstates() \n",
    "\n",
    "make_gif_distribs1s2_new(Int_strength,w,result,eigenstates_total,eigenenergies_total,[0],d1,d2,E_spacing,tmax,ind_nb)"
   ]
  },
  {
   "cell_type": "code",
   "execution_count": 9,
   "id": "57bf3ddc-facc-45d9-a064-f8be1fd39a1a",
   "metadata": {},
   "outputs": [
    {
     "name": "stdout",
     "output_type": "stream",
     "text": [
      "[0]\n"
     ]
    }
   ],
   "source": [
    "#defining all quantities used in the simulation\n",
    "d1, d2 = 10, 200\n",
    "w = 0.3# smallest weight of the 2 eingestates, set btw 0 and 1\n",
    "E_spacing = 1.0\n",
    "Int_strength = 0.1\n",
    "# Define the time settings for the simulation\n",
    "tmax= 10\n",
    "ind_nb = 100\n",
    "result, tlist, H_q, H_system_2, H_system_1_ext, H_system_2_ext, H_interaction, H_total, ket_0, ket_1, initial_state_system_2 = generate_result(d1,d2,w, E_spacing, Int_strength, tmax, ind_nb,0)\n",
    "eigenenergies_total, eigenstates_total = H_total.eigenstates() \n",
    "make_gif_distribs1s2_new(Int_strength,w,result,eigenstates_total,eigenenergies_total,[0],d1,d2,E_spacing,tmax,ind_nb)"
   ]
  },
  {
   "cell_type": "code",
   "execution_count": 10,
   "id": "9b8c9a8b-a050-4fd4-89bf-e4605f961d50",
   "metadata": {},
   "outputs": [
    {
     "name": "stdout",
     "output_type": "stream",
     "text": [
      "[0]\n"
     ]
    }
   ],
   "source": [
    "#defining all quantities used in the simulation\n",
    "d1, d2 = 10, 200\n",
    "w = 0.3# smallest weight of the 2 eingestates, set btw 0 and 1\n",
    "E_spacing = 1.0\n",
    "Int_strength = 0.15\n",
    "# Define the time settings for the simulation\n",
    "tmax= 10\n",
    "ind_nb = 100\n",
    "\n",
    "result, tlist, H_q, H_system_2, H_system_1_ext, H_system_2_ext, H_interaction, H_total, ket_0, ket_1, initial_state_system_2 = generate_result(d1,d2,w, E_spacing, Int_strength, tmax, ind_nb,0)\n",
    "eigenenergies_total, eigenstates_total = H_total.eigenstates() \n",
    "make_gif_distribs1s2_new(Int_strength,w,result,eigenstates_total,eigenenergies_total,[0],d1,d2,E_spacing,tmax,ind_nb)"
   ]
  },
  {
   "cell_type": "code",
   "execution_count": null,
   "id": "df080bcd-321c-43b7-940d-c6056a9dd41c",
   "metadata": {},
   "outputs": [],
   "source": [
    "####Now we change w"
   ]
  },
  {
   "cell_type": "code",
   "execution_count": 11,
   "id": "48c65775-f13c-4924-9b30-69ef46262a0e",
   "metadata": {},
   "outputs": [
    {
     "name": "stdout",
     "output_type": "stream",
     "text": [
      "[0]\n"
     ]
    }
   ],
   "source": [
    "#defining all quantities used in the simulation\n",
    "d1, d2 = 10, 200\n",
    "w = 0.5# smallest weight of the 2 eingestates, set btw 0 and 1\n",
    "E_spacing = 1.0\n",
    "Int_strength = 0.09\n",
    "# Define the time settings for the simulation\n",
    "tmax= 10\n",
    "ind_nb = 100\n",
    "result, tlist, H_q, H_system_2, H_system_1_ext, H_system_2_ext, H_interaction, H_total, ket_0, ket_1, initial_state_system_2 = generate_result(d1,d2,w, E_spacing, Int_strength, tmax, ind_nb,0)\n",
    "eigenenergies_total, eigenstates_total = H_total.eigenstates() \n",
    "make_gif_distribs1s2_new(Int_strength,w,result,eigenstates_total,eigenenergies_total,[0],d1,d2,E_spacing,tmax,ind_nb)"
   ]
  },
  {
   "cell_type": "code",
   "execution_count": 12,
   "id": "e80ff2bf-ca72-406d-98c7-9557f8e5c454",
   "metadata": {},
   "outputs": [
    {
     "name": "stdout",
     "output_type": "stream",
     "text": [
      "[0]\n"
     ]
    }
   ],
   "source": [
    "#defining all quantities used in the simulation\n",
    "d1, d2 = 10, 200\n",
    "w = 0.4# smallest weight of the 2 eingestates, set btw 0 and 1\n",
    "E_spacing = 1.0\n",
    "Int_strength = 0.09\n",
    "# Define the time settings for the simulation\n",
    "tmax= 10\n",
    "ind_nb = 100\n",
    "result, tlist, H_q, H_system_2, H_system_1_ext, H_system_2_ext, H_interaction, H_total, ket_0, ket_1, initial_state_system_2 = generate_result(d1,d2,w, E_spacing, Int_strength, tmax, ind_nb,0)\n",
    "eigenenergies_total, eigenstates_total = H_total.eigenstates() \n",
    "make_gif_distribs1s2_new(Int_strength,w,result,eigenstates_total,eigenenergies_total,[0],d1,d2,E_spacing,tmax,ind_nb)"
   ]
  },
  {
   "cell_type": "code",
   "execution_count": 13,
   "id": "92e01525-bc11-4ba4-ba8c-f50424a7510c",
   "metadata": {},
   "outputs": [
    {
     "name": "stdout",
     "output_type": "stream",
     "text": [
      "[0]\n"
     ]
    }
   ],
   "source": [
    "#defining all quantities used in the simulation\n",
    "d1, d2 = 10, 200\n",
    "w = 0.3# smallest weight of the 2 eingestates, set btw 0 and 1\n",
    "E_spacing = 1.0\n",
    "Int_strength = 0.09\n",
    "# Define the time settings for the simulation\n",
    "tmax= 10\n",
    "ind_nb = 100\n",
    "result, tlist, H_q, H_system_2, H_system_1_ext, H_system_2_ext, H_interaction, H_total, ket_0, ket_1, initial_state_system_2 = generate_result(d1,d2,w, E_spacing, Int_strength, tmax, ind_nb,0)\n",
    "eigenenergies_total, eigenstates_total = H_total.eigenstates() \n",
    "make_gif_distribs1s2_new(Int_strength,w,result,eigenstates_total,eigenenergies_total,[0],d1,d2,E_spacing,tmax,ind_nb)"
   ]
  },
  {
   "cell_type": "code",
   "execution_count": 14,
   "id": "af292ee6-f605-43db-8486-286dec15bd49",
   "metadata": {},
   "outputs": [
    {
     "name": "stdout",
     "output_type": "stream",
     "text": [
      "[0]\n"
     ]
    }
   ],
   "source": [
    "#defining all quantities used in the simulation\n",
    "d1, d2 = 10, 200\n",
    "w = 0.2# smallest weight of the 2 eingestates, set btw 0 and 1\n",
    "E_spacing = 1.0\n",
    "Int_strength = 0.09\n",
    "# Define the time settings for the simulation\n",
    "tmax= 10\n",
    "ind_nb = 100\n",
    "result, tlist, H_q, H_system_2, H_system_1_ext, H_system_2_ext, H_interaction, H_total, ket_0, ket_1, initial_state_system_2 = generate_result(d1,d2,w, E_spacing, Int_strength, tmax, ind_nb,0)\n",
    "eigenenergies_total, eigenstates_total = H_total.eigenstates() \n",
    "make_gif_distribs1s2_new(Int_strength,w,result,eigenstates_total,eigenenergies_total,[0],d1,d2,E_spacing,tmax,ind_nb)"
   ]
  },
  {
   "cell_type": "markdown",
   "id": "79dfbef0-bd6f-4e76-a8ef-eab16eb1de67",
   "metadata": {},
   "source": [
    "To check that the spread is really due to w, we plot for w = 0.7"
   ]
  },
  {
   "cell_type": "code",
   "execution_count": 15,
   "id": "bf5a90b9",
   "metadata": {},
   "outputs": [
    {
     "name": "stdout",
     "output_type": "stream",
     "text": [
      "[0]\n"
     ]
    }
   ],
   "source": [
    "#defining all quantities used in the simulation\n",
    "d1, d2 = 10, 200\n",
    "w = 0.7# smallest weight of the 2 eingestates, set btw 0 and 1\n",
    "E_spacing = 1.0\n",
    "Int_strength = 0.09\n",
    "# Define the time settings for the simulation\n",
    "tmax= 10\n",
    "ind_nb = 100\n",
    "result, tlist, H_q, H_system_2, H_system_1_ext, H_system_2_ext, H_interaction, H_total, ket_0, ket_1, initial_state_system_2 = generate_result(d1,d2,w, E_spacing, Int_strength, tmax, ind_nb,0)\n",
    "eigenenergies_total, eigenstates_total = H_total.eigenstates() \n",
    "make_gif_distribs1s2_new(Int_strength,w,result,eigenstates_total,eigenenergies_total,[0],d1,d2,E_spacing,tmax,ind_nb)"
   ]
  },
  {
   "cell_type": "code",
   "execution_count": 20,
   "id": "20bfda51",
   "metadata": {},
   "outputs": [
    {
     "data": {
      "text/html": [
       "<img src=\"/Users/maringirard/Dev/Quantum_Branching/distrib_schmidt1_2_over_energy_spectrum_EI_0.033_w_0.3_env_[75, 150]_d1_10_d2_200_Espace_1.0_tmax_10_ind_nb_100\">"
      ],
      "text/plain": [
       "<IPython.core.display.HTML object>"
      ]
     },
     "metadata": {},
     "output_type": "display_data"
    }
   ],
   "source": [
    "from IPython.display import HTML\n",
    "\n",
    "# Replace 'path_to_your_gif.gif' with the path to your GIF file\n",
    "gif_path = '/Users/maringirard/Dev/Quantum_Branching/distrib_schmidt1_2_over_energy_spectrum_EI_0.033_w_0.3_env_[75, 150]_d1_10_d2_200_Espace_1.0_tmax_10_ind_nb_100'\n",
    "\n",
    "# Create HTML code to display the GIF\n",
    "html_code = f'<img src=\"{gif_path}\">'\n",
    "\n",
    "# Display the GIF\n",
    "display(HTML(html_code))\n"
   ]
  },
  {
   "cell_type": "markdown",
   "id": "59cef99c",
   "metadata": {},
   "source": [
    "We attempt to make the means different by making the energy difference between teh 2 schhmidts very different. we also manipulate w towards that goal\n",
    "\n",
    "no success.\n",
    "\n"
   ]
  },
  {
   "cell_type": "code",
   "execution_count": 23,
   "id": "e5b612bd",
   "metadata": {},
   "outputs": [
    {
     "name": "stdout",
     "output_type": "stream",
     "text": [
      "[0]\n"
     ]
    }
   ],
   "source": [
    "#defining all quantities used in the simulation\n",
    "d1, d2 = 10, 200\n",
    "w = 0.8# smallest weight of the 2 eingestates, set btw 0 and 1\n",
    "E_spacing = 5.0\n",
    "Int_strength = 0.0944\n",
    "# Define the time settings for the simulation\n",
    "tmax= 10\n",
    "ind_nb = 100\n",
    "result, tlist, H_q, H_system_2, H_system_1_ext, H_system_2_ext, H_interaction, H_total, ket_0, ket_1, initial_state_system_2 = generate_result(d1,d2,w, E_spacing, Int_strength, tmax, ind_nb,0)\n",
    "eigenenergies_total, eigenstates_total = H_total.eigenstates() \n",
    "make_gif_distribs1s2_new(Int_strength,w,result,eigenstates_total,eigenenergies_total,[0],d1,d2,E_spacing,tmax,ind_nb)"
   ]
  },
  {
   "cell_type": "code",
   "execution_count": null,
   "id": "eb426c62",
   "metadata": {},
   "outputs": [],
   "source": []
  }
 ],
 "metadata": {
  "kernelspec": {
   "display_name": "Python 3 (ipykernel)",
   "language": "python",
   "name": "python3"
  },
  "language_info": {
   "codemirror_mode": {
    "name": "ipython",
    "version": 3
   },
   "file_extension": ".py",
   "mimetype": "text/x-python",
   "name": "python",
   "nbconvert_exporter": "python",
   "pygments_lexer": "ipython3",
   "version": "3.11.7"
  }
 },
 "nbformat": 4,
 "nbformat_minor": 5
}

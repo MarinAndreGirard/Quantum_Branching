{
 "cells": [
  {
   "cell_type": "code",
   "execution_count": 1,
   "metadata": {},
   "outputs": [],
   "source": [
    "import numpy as np\n",
    "import qutip as qt\n",
    "import math\n",
    "import matplotlib.pyplot as plt\n",
    "from ipywidgets import interact\n",
    "import ipywidgets as widgets\n",
    "\n",
    "from q_solve import generate_result\n",
    "from q_solve import generate_result_envi_superpo\n",
    "from Schmidt_solve import compute_schmidt_states_new\n",
    "from Schmidt_solve import compute_schmidt_full\n",
    "from VN import plot_VN\n",
    "from VN import compute_VN_time\n",
    "from e_spectrum import plot_e_spectrum\n",
    "from Neff import plot_Neff_schmidt_Neff_tot\n",
    "from checkup import checkup\n",
    "from make_gif import make_gif_distribs1s2_new\n",
    "from make_gif import make_gif_distribs1s2_new_zoomed\n",
    "from make_gif import make_gif_distrib_pointer\n",
    "from make_gif import make_gif_distrib_pointer_s1\n",
    "from make_gif import make_gif_distrib_pointer_s2\n",
    "\n",
    "from matplotlib.animation import FuncAnimation\n",
    "from IPython.display import HTML\n",
    "from PIL import Image\n",
    "#from overlap import compute_schmidt_full\n"
   ]
  },
  {
   "cell_type": "code",
   "execution_count": 2,
   "metadata": {},
   "outputs": [],
   "source": [
    "#Luckily, being in the case where the system has no self-interaction, we can verify that the Schmidt states do converge to the pointer states. The pointer states will correspond to eigenstates of the interaction Hamiltonian.\n",
    "#just do a gif where we see the Schmidt state of the environment projected in the eigenbasis of the interaction Hamiltonian. We should see the Schmidt state converging to a delta\n"
   ]
  },
  {
   "cell_type": "code",
   "execution_count": null,
   "metadata": {},
   "outputs": [],
   "source": []
  },
  {
   "cell_type": "code",
   "execution_count": 3,
   "metadata": {},
   "outputs": [],
   "source": [
    "#testting the zoom\n",
    "#defining all quantities used in the simulation\n",
    "d1, d2 = 10, 200\n",
    "w = 0.3# smallest weight of the 2 eingestates, set btw 0 and 1\n",
    "E_spacing = 1.0\n",
    "Int_strength = 0.0321\n",
    "# Define the time settings for the simulation\n",
    "tmax= 10\n",
    "ind_nb = 100\n",
    "result, tlist, H_q, H_system_2, H_system_1_ext, H_system_2_ext, H_interaction, H_total, ket_0, ket_1, initial_state_system_2 = generate_result(d1,d2,w, E_spacing, Int_strength, tmax, ind_nb,0)\n",
    "eigenenergies_int, eigenstates_int = H_interaction.eigenstates() \n"
   ]
  },
  {
   "cell_type": "code",
   "execution_count": null,
   "metadata": {},
   "outputs": [],
   "source": []
  },
  {
   "cell_type": "code",
   "execution_count": 4,
   "metadata": {},
   "outputs": [],
   "source": [
    "make_gif_distrib_pointer(Int_strength,w,result,eigenstates_int,eigenenergies_int,[0],d1,d2,E_spacing,tmax,ind_nb)"
   ]
  },
  {
   "cell_type": "code",
   "execution_count": 5,
   "metadata": {},
   "outputs": [],
   "source": [
    "make_gif_distrib_pointer_s1(Int_strength,w,result,eigenstates_int,eigenenergies_int,[0],d1,d2,E_spacing,tmax,ind_nb)"
   ]
  },
  {
   "cell_type": "code",
   "execution_count": 6,
   "metadata": {},
   "outputs": [],
   "source": [
    "make_gif_distrib_pointer_s2(Int_strength,w,result,eigenstates_int,eigenenergies_int,[0],d1,d2,E_spacing,tmax,ind_nb)"
   ]
  },
  {
   "cell_type": "code",
   "execution_count": null,
   "metadata": {},
   "outputs": [],
   "source": []
  }
 ],
 "metadata": {
  "kernelspec": {
   "display_name": "Quantum_Branching",
   "language": "python",
   "name": "python3"
  },
  "language_info": {
   "codemirror_mode": {
    "name": "ipython",
    "version": 3
   },
   "file_extension": ".py",
   "mimetype": "text/x-python",
   "name": "python",
   "nbconvert_exporter": "python",
   "pygments_lexer": "ipython3",
   "version": "3.11.7"
  }
 },
 "nbformat": 4,
 "nbformat_minor": 2
}

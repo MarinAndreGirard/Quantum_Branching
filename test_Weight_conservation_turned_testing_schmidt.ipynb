import numpy as np

def test_compute_schmidt_states_new():
    # Test case 1
    input_state = np.array([[1, 0, 0, 0],
                           [0, 1, 0, 0],
                           [0, 0, 1, 0],
                           [0, 0, 0, 1]])
    expected_output = np.array([[1, 0],
                                [0, 1],
                                [0, 0],
                                [0, 0]])
    output = compute_schmidt_states_new(input_state)
    assert np.allclose(output, expected_output), "Test case 1 failed"

    # Test case 2
    input_state = np.array([[1, 1, 0, 0],
                           [1, 1, 0, 0],
                           [0, 0, 1, 1],
                           [0, 0, 1, 1]])
    expected_output = np.array([[1, 0],
                                [1, 0],
                                [0, 1],
                                [0, 1]])
    output = compute_schmidt_states_new(input_state)
    assert np.allclose(output, expected_output), "Test case 2 failed"

    # Add more test cases as needed

    print("All test cases passed!")

test_compute_schmidt_states_new()
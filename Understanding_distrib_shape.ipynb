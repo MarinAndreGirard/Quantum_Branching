{
 "cells": [
  {
   "cell_type": "markdown",
   "metadata": {},
   "source": [
    "We have clearly that changing w impacts the shape of the distribution of probabilities for schmidt states in the energy eigenspace. (look in other spectrums like the environemnt self interaction hamiltonian?)\n",
    "\n",
    "We try here to understand this behavior. \n",
    "\n",
    "We need a measure of the difference in shape. but what about the shape do we care about. We are not sure, so here is a lits of things that maybe we care about: \n",
    "\n",
    "-If they are defined in the same energy eigenstates (likely), but if so how much does this weight match! (maybe some normalized sum of pi/pi')\n",
    "\n",
    "-How wide is the middle section? ie how spread out is the distribution? (maybe fitting a curve to and getting parameters from it. What kind of curve do we expect?)\n",
    "\n",
    "-\n"
   ]
  },
  {
   "cell_type": "code",
   "execution_count": 31,
   "metadata": {},
   "outputs": [],
   "source": [
    "import numpy as np\n",
    "import qutip as qt\n",
    "import math\n",
    "import matplotlib.pyplot as plt\n",
    "from ipywidgets import interact\n",
    "import ipywidgets as widgets\n",
    "\n",
    "from q_solve import generate_result\n",
    "from Schmidt_solve import compute_schmidt_states_new\n",
    "from Schmidt_solve import compute_schmidt_full\n",
    "from VN import plot_VN\n",
    "from VN import compute_VN_time\n",
    "from e_spectrum import plot_e_spectrum\n",
    "from Neff import plot_Neff_schmidt_Neff_tot\n",
    "from checkup import checkup\n",
    "\n",
    "from matplotlib.animation import FuncAnimation\n",
    "from IPython.display import HTML\n",
    "from PIL import Image\n",
    "\n",
    "from scipy.spatial import distance\n",
    "\n"
   ]
  },
  {
   "cell_type": "code",
   "execution_count": 21,
   "metadata": {},
   "outputs": [],
   "source": [
    "def probs_schmidt_in_energy_eigenstates(result,eigenenergies_total, eigenstates_total,tlist,EI,w):\n",
    "    prob_list1 = []\n",
    "    prob_list2 = []\n",
    "    for idx in range(len(tlist)-1):\n",
    "        state = compute_schmidt_full(result,idx+1,1)\n",
    "        state2 = compute_schmidt_full(result,idx+1,2)\n",
    "        energy_coeff=[abs(np.vdot(state, eigenstate)) ** 2 for eigenstate in eigenstates_total]\n",
    "        energy_coeff2=[abs(np.vdot(state2, eigenstate)) ** 2 for eigenstate in eigenstates_total]\n",
    "        prob_list1.append(energy_coeff)\n",
    "        prob_list2.append(energy_coeff2)\n",
    "    return prob_list1, prob_list2\n"
   ]
  },
  {
   "cell_type": "code",
   "execution_count": 22,
   "metadata": {},
   "outputs": [],
   "source": [
    "#defining all quantities used in the simulation\n",
    "d1, d2 = 10, 200\n",
    "w = 0.1# smallest weight of the 2 eingestates, set btw 0 and 1\n",
    "E_spacing = 1.0\n",
    "Int_strength = 0.03\n",
    "# Define the time settings for the simulation\n",
    "tmax= 10\n",
    "ind_nb = 100\n",
    "\n",
    "result, tlist, H_q, H_system_2, H_system_1_ext, H_system_2_ext, H_interaction, H_total, ket_0, ket_1, initial_state_system_2 = generate_result(d1,d2,w, E_spacing, Int_strength, tmax, ind_nb,0)\n",
    "EI = Int_strength\n",
    "eigenenergies_total, eigenstates_total = H_total.eigenstates() "
   ]
  },
  {
   "cell_type": "code",
   "execution_count": 23,
   "metadata": {},
   "outputs": [],
   "source": [
    "s1_list,s2_list=probs_schmidt_in_energy_eigenstates(result,eigenenergies_total,eigenstates_total,tlist,EI,w)"
   ]
  },
  {
   "cell_type": "markdown",
   "metadata": {},
   "source": [
    "First thing we try is to define a function that calculates a metric of similarity between the 2 distributions.\n",
    "\n",
    "2 ideas: \n",
    "\n",
    "Use the cosine distance\n",
    "Use the sum of f(pi/pi') (prob of schmidt 1 being in eigenstate i/...schmidt 2...) with f a function that keeps it between 0 and 1, like the sigmoid.\n",
    "\n",
    "The idea with the cosine, is to make a vector out of the 2 distributions and project them on each other.  \n"
   ]
  },
  {
   "cell_type": "code",
   "execution_count": 34,
   "metadata": {},
   "outputs": [],
   "source": [
    "#need to that the schmidt states become stable over time\n",
    "#to do that, we get a list of ss[0] vectors over time and check that as timer goes, they change less and less.\n",
    "\n",
    "def similarity_btw_s1_s2_plot(s1_list,s2_list,tlist):\n",
    "    similarities = []\n",
    "    for idx in range(len(tlist)-1):\n",
    "        d = 1-distance.cosine(s1_list[idx], s2_list[idx])\n",
    "        similarities.append(d)\n",
    "    \n",
    "    plt.plot(tlist[0:len(tlist)-1], similarities)\n",
    "\n",
    "    return similarities\n",
    "# Plot the similarity over time\n",
    "#plt.plot(tlist[0:len(tlist)-step], similarities)\n",
    "#plt.xlabel('Time')\n",
    "#plt.ylabel('Similarity')\n",
    "#plt.title('Evolution of Similarity between se[0] Vectors')\n",
    "#plt.show()"
   ]
  },
  {
   "cell_type": "code",
   "execution_count": 35,
   "metadata": {},
   "outputs": [
    {
     "data": {
      "image/png": "[encoded data removed]",
      "text/plain": [
       "<Figure size 640x480 with 1 Axes>"
      ]
     },
     "metadata": {},
     "output_type": "display_data"
    }
   ],
   "source": [
    "similarities_btw_s1_s2 = similarity_btw_s1_s2_plot(s1_list,s2_list,tlist)"
   ]
  },
  {
   "cell_type": "code",
   "execution_count": null,
   "metadata": {},
   "outputs": [],
   "source": []
  },
  {
   "cell_type": "code",
   "execution_count": null,
   "metadata": {},
   "outputs": [],
   "source": []
  },
  {
   "cell_type": "code",
   "execution_count": null,
   "metadata": {},
   "outputs": [],
   "source": []
  },
  {
   "cell_type": "code",
   "execution_count": null,
   "metadata": {},
   "outputs": [],
   "source": []
  }
 ],
 "metadata": {
  "kernelspec": {
   "display_name": "Quantum_Branching",
   "language": "python",
   "name": "python3"
  },
  "language_info": {
   "codemirror_mode": {
    "name": "ipython",
    "version": 3
   },
   "file_extension": ".py",
   "mimetype": "text/x-python",
   "name": "python",
   "nbconvert_exporter": "python",
   "pygments_lexer": "ipython3",
   "version": "3.11.7"
  }
 },
 "nbformat": 4,
 "nbformat_minor": 2
}
